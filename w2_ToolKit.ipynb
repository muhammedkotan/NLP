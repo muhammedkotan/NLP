{
 "cells": [
  {
   "cell_type": "code",
   "execution_count": 1,
   "id": "20b894dd-0454-4eac-9b48-a80d44c37567",
   "metadata": {},
   "outputs": [
    {
     "name": "stdout",
     "output_type": "stream",
     "text": [
      "['The First sentence is about Python.', 'The Second is about Natural Language Processing.', 'You can learn Natural Language Processing and Python applications in this lecture.']\n"
     ]
    }
   ],
   "source": [
    "import nltk\n",
    "sentence_data = \"The First sentence is about Python. The Second is about Natural Language Processing. You can learn Natural Language Processing and Python applications in this lecture. \"\n",
    "nltk_tokens = nltk.sent_tokenize(sentence_data)\n",
    "print (nltk_tokens)\n"
   ]
  },
  {
   "cell_type": "code",
   "execution_count": 2,
   "id": "f12e31fc-1ee4-40e8-8246-19e57e85a563",
   "metadata": {},
   "outputs": [
    {
     "name": "stdout",
     "output_type": "stream",
     "text": [
      "['Natural', 'language', 'processing', '(', 'NLP', ')', 'is', 'a', 'branch', 'of', 'artificial', 'intelligence', '(', 'AI', ')', 'that', 'enables', 'computers', 'to', 'comprehend', ',', 'generate', ',', 'and', 'manipulate', 'human', 'language', '.']\n"
     ]
    }
   ],
   "source": [
    "import nltk\n",
    "word_data = \"Natural language processing (NLP) is a branch of artificial intelligence (AI) that enables computers to comprehend, generate, and manipulate human language. \"\n",
    "nltk_tokens = nltk.word_tokenize(word_data)\n",
    "print (nltk_tokens)\n"
   ]
  },
  {
   "cell_type": "code",
   "execution_count": 3,
   "id": "0d58d567-ec66-4e04-97a5-305efcb706e1",
   "metadata": {},
   "outputs": [
    {
     "name": "stdout",
     "output_type": "stream",
     "text": [
      "['Doğal', 'Dil', 'İşleme', 'nedir', '?', 'Neden', 'Önemlidir', '?']\n",
      "['Doğal Dil İşleme nedir?', 'Neden Önemlidir?']\n"
     ]
    }
   ],
   "source": [
    "from nltk.tokenize import word_tokenize, sent_tokenize\n",
    "metin = \"Doğal Dil İşleme nedir? Neden Önemlidir?\"\n",
    "kelimeler = word_tokenize(metin)\n",
    "cumleler = sent_tokenize(metin)\n",
    "print(kelimeler)\n",
    "print(cumleler)\n"
   ]
  },
  {
   "cell_type": "code",
   "execution_count": 4,
   "id": "5b6ded1d-7ddc-4c17-aaa1-705c7e511790",
   "metadata": {},
   "outputs": [
    {
     "name": "stdout",
     "output_type": "stream",
     "text": [
      "['Doğal Dil İşlemeyi', ' Çok ', 'Sevdim']\n"
     ]
    }
   ],
   "source": [
    "from nltk.tokenize import TabTokenizer\n",
    "\n",
    "tk = TabTokenizer()\n",
    "metin = \"Doğal Dil İşlemeyi\\t Çok \\tSevdim\"\n",
    "sonuc = tk.tokenize(metin)\n",
    "print(sonuc)\n"
   ]
  },
  {
   "cell_type": "code",
   "execution_count": 5,
   "id": "dd11d8b8-2cf4-460e-9b5a-89e60ccfb05c",
   "metadata": {},
   "outputs": [
    {
     "name": "stdout",
     "output_type": "stream",
     "text": [
      "['Doğal\\t', 'Dil', 'İşlemey', '\\ni', 'Çok', 'Sevdim.\\n']\n"
     ]
    }
   ],
   "source": [
    "from nltk.tokenize import SpaceTokenizer\n",
    "\t\n",
    "tk = SpaceTokenizer()\n",
    "metin = \"Doğal\\t Dil İşlemey \\ni Çok Sevdim.\\n\"\n",
    "sonuc = tk.tokenize(metin)\n",
    "print(sonuc)\n"
   ]
  },
  {
   "cell_type": "code",
   "execution_count": 6,
   "id": "66569c22-8d6e-4446-8953-c6954a627628",
   "metadata": {},
   "outputs": [
    {
     "name": "stdout",
     "output_type": "stream",
     "text": [
      "['doğal_dil_işleme', 've', 'metin_madenciliği', 'm_t_n']\n"
     ]
    }
   ],
   "source": [
    "from nltk.tokenize import MWETokenizer\n",
    "\n",
    "tk = MWETokenizer([('m', 't', 'n'), ('metin', 'madenciliği')])\n",
    "tk.add_mwe(('doğal', 'dil', 'işleme'))\n",
    "metin = \"doğal dil işleme ve metin madenciliği m t n \"\n",
    "sonuc = tk.tokenize(metin.split())\n",
    "\n",
    "print(sonuc)\n"
   ]
  },
  {
   "cell_type": "code",
   "execution_count": 7,
   "id": "bb8a151f-9238-4674-b782-db1eaf42978a",
   "metadata": {},
   "outputs": [
    {
     "name": "stdout",
     "output_type": "stream",
     "text": [
      "['Doğal', '', ' Dil İşleme ', 'yi Çok Sevdim']\n"
     ]
    }
   ],
   "source": [
    "from nltk.tokenize import LineTokenizer\n",
    "\t\n",
    "tk = LineTokenizer(blanklines ='keep')\n",
    "metin = \"Doğal\\n\\n Dil İşleme \\nyi Çok Sevdim\\n\"\n",
    "sonuc = tk.tokenize(metin)\n",
    "\t\n",
    "print(sonuc)\n"
   ]
  },
  {
   "cell_type": "code",
   "execution_count": 8,
   "id": "7c7866ec-d578-48e0-a612-17a8f6349558",
   "metadata": {},
   "outputs": [
    {
     "name": "stdout",
     "output_type": "stream",
     "text": [
      "['(a b)', 'c', 'd', '(e f)', '(g ğ h)']\n"
     ]
    }
   ],
   "source": [
    "from nltk.tokenize import SExprTokenizer\n",
    "\t\n",
    "tk = SExprTokenizer()\n",
    "ifade = \"(a b) c d (e f) (g ğ h)\"\n",
    "sonuc = tk.tokenize(ifade)\n",
    "\t\n",
    "print(sonuc)\n"
   ]
  },
  {
   "cell_type": "code",
   "execution_count": 9,
   "id": "7e410748-106e-4786-b49a-e489d13d07b3",
   "metadata": {},
   "outputs": [
    {
     "name": "stdout",
     "output_type": "stream",
     "text": [
      "dict_values([FreqDist({'bir': 2}), FreqDist({'birler': 2, 'ikiler': 1}), FreqDist({'mini': 2})])\n",
      "0.6666666666666666\n"
     ]
    }
   ],
   "source": [
    "from nltk.probability import ConditionalFreqDist\n",
    "from nltk.tokenize import word_tokenize\n",
    "\t\n",
    "tk = ConditionalFreqDist()\n",
    "\t\n",
    "metin = \"bir bir birler birler mini mini ikiler\"\n",
    "for word in word_tokenize(metin):\n",
    " condition = len(word)\n",
    " tk[condition][word] += 1\n",
    "\t\n",
    "print(tk.values())\n",
    "print(tk[6].freq('birler'))\n"
   ]
  },
  {
   "cell_type": "code",
   "execution_count": 10,
   "id": "044ce2c9-c20e-423b-819e-a6a2fd4d8d96",
   "metadata": {},
   "outputs": [
    {
     "name": "stdout",
     "output_type": "stream",
     "text": [
      "['Doğal', 'Dil', 'İşlemeyi', 'Çok', 'Seviyorum']\n"
     ]
    }
   ],
   "source": [
    "from nltk.tokenize import RegexpTokenizer\n",
    "\n",
    "tk = RegexpTokenizer(r'\\s+', gaps=True)\n",
    "metin = \"Doğal Dil İşlemeyi Çok Seviyorum\"\n",
    "sonuc = tk.tokenize(metin)\n",
    "\n",
    "print(sonuc)\n"
   ]
  },
  {
   "cell_type": "code",
   "execution_count": 11,
   "id": "8fdbd966-b504-416c-b578-2edde9d0db63",
   "metadata": {},
   "outputs": [
    {
     "name": "stdout",
     "output_type": "stream",
     "text": [
      "['Sakarya', 'Üniversitesi', '...$$&', 'Bilişim', 'Sistemleri']\n"
     ]
    }
   ],
   "source": [
    "from nltk.tokenize import WordPunctTokenizer\n",
    "\t\n",
    "tk = WordPunctTokenizer()\n",
    "metin = \"Sakarya Üniversitesi...$$& \\nBilişim\\t Sistemleri\"\n",
    "sonuc = tk.tokenize(metin)\n",
    "\t\n",
    "print(sonuc)\n"
   ]
  },
  {
   "cell_type": "code",
   "execution_count": 12,
   "id": "62116bd2-5548-4dc7-ae25-b2717843817a",
   "metadata": {},
   "outputs": [
    {
     "name": "stdout",
     "output_type": "stream",
     "text": [
      "['Sakarya', 'Üniversitesi', 'Bilişim', 'SistemleriMühendisliği']\n"
     ]
    }
   ],
   "source": [
    "from nltk.tokenize import WhitespaceTokenizer\n",
    "\n",
    "tk = WhitespaceTokenizer()\n",
    "metin = \"Sakarya Üniversitesi \\nBilişim\\t SistemleriMühendisliği\"\n",
    "sonuc = tk.tokenize(metin)\n",
    "\t\n",
    "print(sonuc)\n"
   ]
  },
  {
   "cell_type": "code",
   "execution_count": 13,
   "id": "250c089f-122b-4327-aa73-ac7c3bce664f",
   "metadata": {},
   "outputs": [
    {
     "name": "stdout",
     "output_type": "stream",
     "text": [
      "['Çeşitli', 'emojiler', '#dummysmiley', ':', ':-)', ':-P', '<3', 'bazı', 'işaretler', '<', '>', '->', '<--', '@kotan', ':', 'NLP', 'öğreniyorum', '!', '!', '!']\n",
      "['Çeşitli', 'emojiler', '#', 'dummysmiley', ':', ':', '-', ')', ':', '-P', '<', '3', 'bazı', 'işaretler', '<', '>', '-', '>', '<', '--', '@', 'kotan', ':', 'NLP', 'öğreniyorum', '!', '!', '!', '!', '!', '!']\n"
     ]
    }
   ],
   "source": [
    "from nltk.tokenize import TweetTokenizer\n",
    "from nltk.tokenize import  word_tokenize\n",
    "tt = TweetTokenizer()\n",
    "tweet = \"Çeşitli emojiler #dummysmiley: :-) :-P <3 bazı işaretler < > -> <-- @kotan: NLP öğreniyorum!!!!!!\"\n",
    "print(tt.tokenize(tweet))\n",
    "print(word_tokenize(tweet))\n"
   ]
  },
  {
   "cell_type": "code",
   "execution_count": 14,
   "id": "c2fcb885-dd35-4d85-8ea9-3ec8ca4b2923",
   "metadata": {},
   "outputs": [
    {
     "name": "stdout",
     "output_type": "stream",
     "text": [
      "{'de', 'defa', 'kim', 'mü', 'acaba', 'nerde', 'hep', 'da', 'kez', 'ne', 'ama', 'tüm', 'niçin', 'daha', 'aslında', 'birşey', 'biz', 'çok', 'en', 'biri', 'nereye', 'yani', 'az', 'hem', 'siz', 'eğer', 'ise', 'niye', 'diye', 'her', 'için', 'ya', 'belki', 'mı', 'mu', 'sanki', 'ile', 've', 'neden', 'hepsi', 'birkaç', 'ki', 'hiç', 'gibi', 'o', 'veya', 'nerede', 'şu', 'şey', 'nasıl', 'bu', 'çünkü', 'bazı'}\n",
      "All words: ['Bu', 'sabah', 'Ahmet', 've', 'Ayşe', 'ile', 'birlikte', 'parka', 'gittik', 'çünkü', 'hava', 'çok', 'güzeldi', '.']\n",
      "Filtered words: ['sabah', 'Ahmet', 'Ayşe', 'birlikte', 'parka', 'gittik', 'hava', 'güzeldi', '.']\n"
     ]
    }
   ],
   "source": [
    "from nltk.corpus import stopwords\n",
    "from nltk.tokenize import word_tokenize\n",
    "stopWords = set(stopwords.words('turkish'))\n",
    "print(stopWords)\n",
    "sentence = \"Bu sabah Ahmet ve Ayşe ile birlikte parka gittik çünkü hava çok güzeldi.\"\n",
    "words = word_tokenize(sentence)\n",
    "wordsFiltered = []\n",
    "for w in words:\n",
    "    if w.lower() not in stopWords:\n",
    "        wordsFiltered.append(w)\n",
    "print(\"All words:\", words)\n",
    "print(\"Filtered words:\", wordsFiltered)\n"
   ]
  },
  {
   "cell_type": "code",
   "execution_count": 15,
   "id": "1f8ced94-7b64-4cd9-8921-b464363211f1",
   "metadata": {},
   "outputs": [
    {
     "name": "stdout",
     "output_type": "stream",
     "text": [
      "Programmers  :  programm\n",
      "program  :  program\n",
      "with  :  with\n",
      "programming  :  program\n",
      "languages  :  languag\n"
     ]
    }
   ],
   "source": [
    "from nltk.stem import PorterStemmer\n",
    "from nltk.tokenize import word_tokenize\n",
    "ps = PorterStemmer()\n",
    "sentence = \"Programmers program with programming languages\"\n",
    "words = word_tokenize(sentence)\n",
    "for w in words:\n",
    "\tprint(w, \" : \", ps.stem(w))\n"
   ]
  },
  {
   "cell_type": "code",
   "execution_count": 16,
   "id": "1a52f06d-ec37-4e28-b6a0-2333ce7d677e",
   "metadata": {},
   "outputs": [
    {
     "name": "stdout",
     "output_type": "stream",
     "text": [
      "Original words: ['Kitapları', 'çok', 'seviyorum', 've', 'her', 'gün', 'okumaya', 'çalışıyorum.']\n",
      "Stemmed words: ['Kitap', 'çok', 'seviyor', 've', 'her', 'gün', 'okuma', 'çalışıyorum.']\n"
     ]
    }
   ],
   "source": [
    "#!pip install snowballstemmer\n",
    "import snowballstemmer\n",
    "\n",
    "turkish_stemmer = snowballstemmer.stemmer('turkish')\n",
    "sentence = \"Kitapları çok seviyorum ve her gün okumaya çalışıyorum.\"\n",
    "\n",
    "words = sentence.split()\n",
    "\n",
    "stemmed_words = [turkish_stemmer.stemWord(word) for word in words]\n",
    "\n",
    "print(\"Original words:\", words)\n",
    "print(\"Stemmed words:\", stemmed_words)\n"
   ]
  },
  {
   "cell_type": "code",
   "execution_count": 17,
   "id": "475748d2-b07d-4d07-8426-542e7ff8c219",
   "metadata": {},
   "outputs": [
    {
     "name": "stderr",
     "output_type": "stream",
     "text": [
      "[nltk_data] Downloading package wordnet to\n",
      "[nltk_data]     C:\\Users\\MKOTAN\\AppData\\Roaming\\nltk_data...\n",
      "[nltk_data]   Package wordnet is already up-to-date!\n",
      "[nltk_data] Downloading package omw-1.4 to\n",
      "[nltk_data]     C:\\Users\\MKOTAN\\AppData\\Roaming\\nltk_data...\n",
      "[nltk_data]   Package omw-1.4 is already up-to-date!\n"
     ]
    },
    {
     "name": "stdout",
     "output_type": "stream",
     "text": [
      "rocks : rock\n",
      "corpora : corpus\n",
      "better : good\n"
     ]
    }
   ],
   "source": [
    "import nltk\n",
    "nltk.download('wordnet')\n",
    "nltk.download('omw-1.4')\n",
    "from nltk.stem import WordNetLemmatizer\n",
    "  \n",
    "lemmatizer = WordNetLemmatizer()\n",
    "  \n",
    "print(\"rocks :\", lemmatizer.lemmatize(\"rocks\"))\n",
    "print(\"corpora :\", lemmatizer.lemmatize(\"corpora\"))\n",
    "  \n",
    "print(\"better :\", lemmatizer.lemmatize(\"better\", pos =\"a\"))\n"
   ]
  },
  {
   "cell_type": "code",
   "execution_count": 18,
   "id": "cec5f4fb-7d30-459f-b2d6-52d5fb92fff8",
   "metadata": {},
   "outputs": [
    {
     "name": "stderr",
     "output_type": "stream",
     "text": [
      "APPENDING RESULT: <(kitap_Noun)(-)(kitap:noun_S + a3sg_S + ları:p3pl_S + nom_ST)>\n",
      "APPENDING RESULT: <(kitap_Noun)(-)(kitap:noun_S + lar:a3pl_S + pnon_S + ı:acc_ST)>\n",
      "APPENDING RESULT: <(kitap_Noun)(-)(kitap:noun_S + lar:a3pl_S + ı:p3sg_S + nom_ST)>\n",
      "APPENDING RESULT: <(kitap_Noun)(-)(kitap:noun_S + lar:a3pl_S + ı:p3pl_S + nom_ST)>\n",
      "APPENDING RESULT: <(Kitap_Noun_Prop)(-)(kitap:nounProper_S + a3sg_S + ları:p3pl_S + nom_ST)>\n",
      "APPENDING RESULT: <(Kitap_Noun_Prop)(-)(kitap:nounProper_S + lar:a3pl_S + pnon_S + ı:acc_ST)>\n",
      "APPENDING RESULT: <(Kitap_Noun_Prop)(-)(kitap:nounProper_S + lar:a3pl_S + ı:p3sg_S + nom_ST)>\n",
      "APPENDING RESULT: <(Kitap_Noun_Prop)(-)(kitap:nounProper_S + lar:a3pl_S + ı:p3pl_S + nom_ST)>\n",
      "APPENDING RESULT: <(çok_Adj)(-)(çok:adjectiveRoot_ST)>\n",
      "APPENDING RESULT: <(çok_Postp_PCAbl)(-)(çok:postpRoot_ST)>\n",
      "APPENDING RESULT: <(çok_Det)(-)(çok:detRoot_ST)>\n",
      "APPENDING RESULT: <(çok_Adv)(-)(çok:advRoot_ST)>\n",
      "APPENDING RESULT: <(sevmek_Verb)(-)(sev:verbRoot_S + iyor:vProgYor_S + um:vA1sg_ST)>\n",
      "APPENDING RESULT: <(ve_Conj)(-)(ve:conjRoot_ST)>\n",
      "APPENDING RESULT: <(her_Adj)(-)(her:adjectiveRoot_ST)>\n",
      "APPENDING RESULT: <(her_Det)(-)(her:detRoot_ST)>\n",
      "APPENDING RESULT: <(gün_Noun_Time)(-)(gün:noun_S + a3sg_S + pnon_S + nom_ST)>\n",
      "APPENDING RESULT: <(okumak_Verb)(-)(oku:verbRoot_S + ma:vNeg_S + ya:vOpt_S + vA3sg_ST)>\n",
      "APPENDING RESULT: <(okumak_Verb)(-)(oku:verbRoot_S + ma:vInf2_S + noun_S + a3sg_S + pnon_S + ya:dat_ST)>\n",
      "APPENDING RESULT: <(çalışmak_Verb)(-)(çalış:verbRoot_S + ıyor:vProgYor_S + um:vA1sg_ST)>\n",
      "APPENDING RESULT: <(._Punc)(-)(.:puncRoot_ST)>\n"
     ]
    },
    {
     "name": "stdout",
     "output_type": "stream",
     "text": [
      "Original words: ['Kitapları', 'çok', 'seviyorum', 've', 'her', 'gün', 'okumaya', 'çalışıyorum.']\n",
      "Lemmatized words: ['kitap', 'çok', 'sevmek', 've', 'her', 'gün', 'okumak', 'çalışmak']\n"
     ]
    }
   ],
   "source": [
    "#!pip install zeyrek\n",
    "import zeyrek\n",
    "\n",
    "lemmatizer = zeyrek.MorphAnalyzer()\n",
    "\n",
    "sentence = \"Kitapları çok seviyorum ve her gün okumaya çalışıyorum.\"\n",
    "\n",
    "words = sentence.split()\n",
    "\n",
    "lemmatized_words = []\n",
    "for word in words:\n",
    "    analyses = lemmatizer.analyze(word)\n",
    "    if analyses:\n",
    "        lemmatized_words.append(analyses[0][0].lemma)\n",
    "    else:\n",
    "        lemmatized_words.append(word)\n",
    "\n",
    "print(\"Original words:\", words)\n",
    "print(\"Lemmatized words:\", lemmatized_words)\n"
   ]
  },
  {
   "cell_type": "code",
   "execution_count": null,
   "id": "430dca8a-d030-43b5-90c1-bdf272f5e1f9",
   "metadata": {},
   "outputs": [],
   "source": []
  }
 ],
 "metadata": {
  "kernelspec": {
   "display_name": "Python 3 (ipykernel)",
   "language": "python",
   "name": "python3"
  },
  "language_info": {
   "codemirror_mode": {
    "name": "ipython",
    "version": 3
   },
   "file_extension": ".py",
   "mimetype": "text/x-python",
   "name": "python",
   "nbconvert_exporter": "python",
   "pygments_lexer": "ipython3",
   "version": "3.12.4"
  }
 },
 "nbformat": 4,
 "nbformat_minor": 5
}
