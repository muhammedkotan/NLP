{
 "cells": [
  {
   "cell_type": "code",
   "execution_count": 1,
   "id": "4e0ff6de",
   "metadata": {},
   "outputs": [],
   "source": [
    "import fasttext"
   ]
  },
  {
   "cell_type": "code",
   "execution_count": 2,
   "id": "02405af9",
   "metadata": {},
   "outputs": [
    {
     "data": {
      "text/plain": [
       "[(0.7198915481567383, 'kötü'),\n",
       " (0.6832171082496643, 'güzel'),\n",
       " (0.6474365592002869, 'mükemmel'),\n",
       " (0.6444537043571472, 'İyi'),\n",
       " (0.6064274907112122, 'iyiy'),\n",
       " (0.5990731716156006, 'başarılı'),\n",
       " (0.5968620181083679, 'kaliteli'),\n",
       " (0.5957375168800354, 'kötüde'),\n",
       " (0.5951046943664551, 'kötü-'),\n",
       " (0.5937892198562622, 'çok')]"
      ]
     },
     "execution_count": 2,
     "metadata": {},
     "output_type": "execute_result"
    }
   ],
   "source": [
    "model_tr = fasttext.load_model('cc.tr.300.bin')\n",
    "\n",
    "model_tr.get_nearest_neighbors('iyi') #eş anlamlı yada zıt anlamlı demek değil. Vikipedia corpusunda benzer contextlere sahip. Film iyi, film kötü"
   ]
  },
  {
   "cell_type": "code",
   "execution_count": 3,
   "id": "beefb4d2",
   "metadata": {},
   "outputs": [
    {
     "data": {
      "text/plain": [
       "[(0.8866659998893738, 'zekâ'),\n",
       " (0.7228801846504211, 'zekanın'),\n",
       " (0.7165305018424988, 'zekânın'),\n",
       " (0.7157747149467468, 'zekâda'),\n",
       " (0.7039412260055542, 'zekada'),\n",
       " (0.6952589750289917, 'zekân'),\n",
       " (0.683003306388855, 'zekadan'),\n",
       " (0.6805238127708435, 'zekâm'),\n",
       " (0.6776455640792847, 'zekâyla'),\n",
       " (0.6757148504257202, 'zekayla')]"
      ]
     },
     "execution_count": 3,
     "metadata": {},
     "output_type": "execute_result"
    }
   ],
   "source": [
    "model_tr.get_nearest_neighbors('zeka')"
   ]
  },
  {
   "cell_type": "code",
   "execution_count": 4,
   "id": "029b6118",
   "metadata": {},
   "outputs": [
    {
     "data": {
      "text/plain": [
       "['__class__',\n",
       " '__contains__',\n",
       " '__delattr__',\n",
       " '__dict__',\n",
       " '__dir__',\n",
       " '__doc__',\n",
       " '__eq__',\n",
       " '__format__',\n",
       " '__ge__',\n",
       " '__getattribute__',\n",
       " '__getitem__',\n",
       " '__getstate__',\n",
       " '__gt__',\n",
       " '__hash__',\n",
       " '__init__',\n",
       " '__init_subclass__',\n",
       " '__le__',\n",
       " '__lt__',\n",
       " '__module__',\n",
       " '__ne__',\n",
       " '__new__',\n",
       " '__reduce__',\n",
       " '__reduce_ex__',\n",
       " '__repr__',\n",
       " '__setattr__',\n",
       " '__sizeof__',\n",
       " '__str__',\n",
       " '__subclasshook__',\n",
       " '__weakref__',\n",
       " '_labels',\n",
       " '_words',\n",
       " 'f',\n",
       " 'get_analogies',\n",
       " 'get_dimension',\n",
       " 'get_input_matrix',\n",
       " 'get_input_vector',\n",
       " 'get_label_id',\n",
       " 'get_labels',\n",
       " 'get_line',\n",
       " 'get_meter',\n",
       " 'get_nearest_neighbors',\n",
       " 'get_output_matrix',\n",
       " 'get_sentence_vector',\n",
       " 'get_subword_id',\n",
       " 'get_subwords',\n",
       " 'get_word_id',\n",
       " 'get_word_vector',\n",
       " 'get_words',\n",
       " 'is_quantized',\n",
       " 'labels',\n",
       " 'predict',\n",
       " 'quantize',\n",
       " 'save_model',\n",
       " 'set_args',\n",
       " 'set_matrices',\n",
       " 'test',\n",
       " 'test_label',\n",
       " 'words']"
      ]
     },
     "execution_count": 4,
     "metadata": {},
     "output_type": "execute_result"
    }
   ],
   "source": [
    "dir(model_tr)"
   ]
  },
  {
   "cell_type": "code",
   "execution_count": 5,
   "id": "36dbffef",
   "metadata": {},
   "outputs": [
    {
     "data": {
      "text/plain": [
       "array([ 1.73790716e-02, -5.75674418e-03,  3.83915007e-02,  1.11910969e-01,\n",
       "       -7.27866143e-02, -2.64347973e-03,  7.96186998e-02,  6.97310716e-02,\n",
       "       -8.18265229e-02, -4.42038625e-02, -5.35568595e-02, -3.53922099e-02,\n",
       "       -2.35989387e-03, -1.59277078e-02, -6.21772520e-02, -6.75654560e-02,\n",
       "       -8.90443381e-03, -8.14985298e-03,  1.85019094e-02,  1.54460948e-02,\n",
       "       -9.68188271e-02,  4.22865562e-02,  8.85426402e-02, -6.15716279e-02,\n",
       "       -5.12465835e-02, -1.29369587e-01, -1.17112160e-01,  2.93272398e-02,\n",
       "        1.52158916e-01, -1.53813418e-02,  1.31106824e-01,  1.80987939e-02,\n",
       "       -4.29870840e-03,  6.88035339e-02,  8.55818614e-02,  1.61173884e-02,\n",
       "        5.64989224e-02,  7.86426663e-02,  6.56689226e-04,  2.52165105e-02,\n",
       "        6.23787642e-02,  9.99113079e-03, -1.02085337e-01, -9.62327942e-02,\n",
       "       -1.35611787e-01, -4.88811433e-02, -1.93437003e-02, -1.40279215e-02,\n",
       "        3.09009757e-02,  3.71177867e-02, -9.66713056e-02,  4.53378714e-04,\n",
       "        3.17974761e-02, -7.34423399e-02, -2.80130804e-02,  1.22721836e-01,\n",
       "        7.93582723e-02, -7.16304779e-03,  6.09575771e-02, -8.40092152e-02,\n",
       "       -1.79529730e-02,  2.31078371e-01, -9.13707633e-03,  1.17590306e-02,\n",
       "        6.34682104e-02,  1.75458193e-03, -4.74217255e-03,  5.13942987e-02,\n",
       "        8.62820596e-02,  6.79977238e-05,  5.48575912e-03,  4.02533859e-02,\n",
       "       -3.31815071e-02, -4.04040180e-02,  1.85001530e-02, -7.47965872e-02,\n",
       "       -7.60425255e-02, -7.09948689e-02, -5.59414439e-05, -8.99943858e-02,\n",
       "       -7.02771451e-03, -2.44492650e-01, -9.32097659e-02,  5.81043493e-03,\n",
       "        4.72153798e-02, -6.53043091e-02, -5.22216782e-03,  2.33186362e-03,\n",
       "       -3.86057422e-02,  1.18678799e-02,  6.85248058e-03, -1.08045623e-01,\n",
       "        5.57313859e-02,  2.01281942e-02, -3.37924175e-02,  5.54676019e-02,\n",
       "       -2.12837905e-01, -1.80033430e-01,  4.68023382e-02,  1.63766816e-02,\n",
       "       -2.38215886e-02, -8.25138539e-02,  4.97575402e-02, -1.01602767e-02,\n",
       "       -8.62875432e-02,  1.21324491e-02,  5.32068908e-02, -2.95698754e-02,\n",
       "       -1.78944439e-01, -3.72832902e-02, -4.21361029e-02,  3.32200974e-02,\n",
       "       -2.76592281e-02,  3.18785571e-02, -5.82536273e-02, -4.83483300e-02,\n",
       "        1.06800467e-01, -6.18421845e-02,  2.88330913e-02, -2.09671762e-02,\n",
       "       -1.04074907e-02, -5.40843755e-02, -8.01609643e-03, -6.05986528e-02,\n",
       "       -4.48052213e-02,  1.21954322e-01, -7.58912638e-02, -9.77745629e-04,\n",
       "       -2.70192325e-02, -4.98542301e-02,  8.12504888e-02,  1.11458533e-01,\n",
       "       -9.77776758e-03, -9.30656418e-02,  3.22030522e-02,  1.37916934e-02,\n",
       "        2.04517152e-02, -2.70250700e-02, -1.61643669e-01, -2.99813263e-02,\n",
       "        6.76385462e-02,  5.27895009e-03, -4.64015678e-02,  3.51296924e-02,\n",
       "        2.18135230e-02, -8.46396238e-02,  1.12234414e-01, -6.95244074e-02,\n",
       "       -2.27280445e-02, -3.14344540e-02,  4.56528887e-02,  2.25780867e-02,\n",
       "        3.19498917e-03, -2.21180376e-02,  1.53041277e-02, -4.42887805e-02,\n",
       "        2.11496204e-02,  7.18648583e-02, -3.57043147e-02, -1.34042591e-01,\n",
       "       -3.84356454e-03, -1.30037904e-01, -3.37670445e-02, -8.87336358e-02,\n",
       "       -2.61551701e-02, -6.88431263e-02,  8.61116797e-02,  1.94857381e-02,\n",
       "       -1.10751092e-02, -1.76793575e-01, -6.89375401e-02, -8.45790952e-02,\n",
       "        1.16210304e-01, -1.93259325e-02, -1.09102115e-01,  4.42842394e-03,\n",
       "       -1.90603267e-02, -1.71918678e-03, -2.25686990e-02, -6.88551962e-02,\n",
       "        5.44309728e-02, -8.23100209e-02, -2.94600934e-04,  6.04294650e-02,\n",
       "       -3.10119595e-02, -2.13879030e-02, -2.72959452e-02,  1.00212023e-01,\n",
       "        2.12700274e-02,  1.02624953e-01, -1.09284393e-01, -3.26308198e-02,\n",
       "       -3.27010220e-03,  2.49626189e-02,  1.01382449e-01,  5.33587188e-02,\n",
       "        2.60526463e-02, -1.08941123e-01,  7.93204531e-02, -1.10261664e-02,\n",
       "        4.34424803e-02,  9.74539369e-02,  2.35024448e-02, -5.99523112e-02,\n",
       "        1.87140275e-02,  7.56219728e-03,  7.82415718e-02, -1.89705398e-02,\n",
       "        5.88957481e-02, -8.76701623e-02,  7.87583739e-02, -1.56729788e-01,\n",
       "       -9.07463282e-02, -3.94535437e-02, -3.41181159e-02, -1.49205122e-02,\n",
       "        1.21178567e-01,  1.33608192e-01, -7.76930153e-02, -3.01028369e-03,\n",
       "       -9.29037854e-02, -1.13985753e-02,  3.26453969e-02, -2.02435851e-01,\n",
       "       -2.72367299e-02,  3.99185084e-02,  3.59533355e-03, -3.59075218e-02,\n",
       "        2.46818848e-02, -2.44774707e-02, -4.61685061e-02, -4.85577807e-02,\n",
       "        3.40431705e-02, -1.14318326e-01, -4.03231159e-02,  3.94092053e-02,\n",
       "       -5.33490954e-03, -1.00995287e-01, -6.03642091e-02,  9.11628734e-03,\n",
       "       -1.23998217e-01, -8.86953436e-03, -4.65929322e-02, -1.24920890e-01,\n",
       "       -6.05036132e-02, -2.80623022e-03,  7.70163685e-02,  9.82656628e-02,\n",
       "       -7.67702311e-02,  4.57254574e-02, -3.39224599e-02, -1.04370654e-01,\n",
       "        4.71370332e-02, -2.38284282e-02, -1.43857032e-01, -4.46410887e-02,\n",
       "       -4.32263426e-02, -5.47672734e-02, -1.83713585e-02, -6.73135072e-02,\n",
       "       -1.92087218e-01, -1.06230736e-01, -1.74271259e-02, -6.03712760e-02,\n",
       "        2.17092037e-02, -2.61045080e-02,  8.53700843e-03, -7.13724643e-02,\n",
       "        2.11361423e-02, -1.00631580e-01, -2.08213050e-02,  5.20892441e-02,\n",
       "       -3.53050530e-02, -6.22073486e-02, -2.36838385e-02, -2.18138814e-01,\n",
       "       -6.20259754e-02,  4.90307137e-02, -3.51377390e-02,  7.67762065e-02,\n",
       "        1.14196818e-02, -7.69910738e-02,  2.14327872e-02, -1.18983343e-01,\n",
       "        6.26848489e-02, -2.56071966e-02, -1.09074876e-01,  5.50939701e-02,\n",
       "        6.28733933e-02,  5.95757514e-02, -2.95676962e-02,  1.59230120e-02,\n",
       "        1.17930703e-01,  1.45228952e-01, -3.69244814e-02,  1.36505067e-01,\n",
       "       -1.42023368e-02, -5.45709133e-02,  3.97972912e-02,  9.48951673e-03],\n",
       "      dtype=float32)"
      ]
     },
     "execution_count": 5,
     "metadata": {},
     "output_type": "execute_result"
    }
   ],
   "source": [
    "model_tr.get_word_vector(\"kötü\")\n",
    "#model_tr.get_word_vector(\"iyi\").shape"
   ]
  },
  {
   "cell_type": "code",
   "execution_count": 6,
   "id": "567e7a6a",
   "metadata": {},
   "outputs": [
    {
     "data": {
      "text/plain": [
       "[(0.7289137840270996, 'Madrid'),\n",
       " (0.7275587916374207, 'Barselona'),\n",
       " (0.6525614261627197, 'Barcelona'),\n",
       " (0.6308573484420776, 'Sevilla'),\n",
       " (0.6127479076385498, 'Madrit'),\n",
       " (0.5912843942642212, 'Milano'),\n",
       " (0.5873674750328064, 'Seville'),\n",
       " (0.5851713418960571, 'Madridde'),\n",
       " (0.5801399350166321, 'Malaga'),\n",
       " (0.5788848996162415, 'Granada')]"
      ]
     },
     "execution_count": 6,
     "metadata": {},
     "output_type": "execute_result"
    }
   ],
   "source": [
    "model_tr.get_analogies(\"Paris\",\"Fransa\",\"İspanya\")"
   ]
  },
  {
   "cell_type": "code",
   "execution_count": 7,
   "id": "9dbdda0a",
   "metadata": {},
   "outputs": [
    {
     "data": {
      "text/plain": [
       "[(0.6445959210395813, 'okuma'),\n",
       " (0.5390236973762512, 'okumayazma'),\n",
       " (0.5366694331169128, '-kitap'),\n",
       " (0.5301944017410278, 'okuma-'),\n",
       " (0.5283445715904236, 'kitabı'),\n",
       " (0.5132629871368408, 'kitapları'),\n",
       " (0.5111876726150513, 'kitaplar'),\n",
       " (0.5100136995315552, 'Yazma'),\n",
       " (0.5079360008239746, 'okuma-anlama'),\n",
       " (0.5075947642326355, 'kitapı')]"
      ]
     },
     "execution_count": 7,
     "metadata": {},
     "output_type": "execute_result"
    }
   ],
   "source": [
    "model_tr.get_analogies(\"yazma\",\"yazı\",\"kitap\")"
   ]
  },
  {
   "cell_type": "code",
   "execution_count": 8,
   "id": "5ce80f44",
   "metadata": {},
   "outputs": [
    {
     "data": {
      "text/plain": [
       "[(0.5169254541397095, 'kullanama'),\n",
       " (0.4992994964122772, 'kullandırılma'),\n",
       " (0.48823368549346924, 'kullandırma'),\n",
       " (0.48692190647125244, 'kullanım'),\n",
       " (0.4861299395561218, 'kullanabilme'),\n",
       " (0.4788496494293213, 'kulanma'),\n",
       " (0.47867122292518616, 'kullanmama'),\n",
       " (0.47293365001678467, 'arayabilme'),\n",
       " (0.466401070356369, 'kulllanma'),\n",
       " (0.4650990962982178, 'kullanamama')]"
      ]
     },
     "execution_count": 8,
     "metadata": {},
     "output_type": "execute_result"
    }
   ],
   "source": [
    "model_tr.get_analogies(\"kullanma\",\"araba\",\"telefon\")"
   ]
  },
  {
   "cell_type": "code",
   "execution_count": 9,
   "id": "82f19f63",
   "metadata": {},
   "outputs": [
    {
     "data": {
      "text/plain": [
       "[(0.7581236958503723, 'lahmacunu'),\n",
       " (0.7479460835456848, 'lahmacuna'),\n",
       " (0.7326034307479858, 'Lahmacun'),\n",
       " (0.7270856499671936, 'lahmacuncu'),\n",
       " (0.7264447808265686, 'lahmacundan'),\n",
       " (0.7141788005828857, 'lahmacunda'),\n",
       " (0.7141064405441284, 'kebap'),\n",
       " (0.7090020179748535, 'köfte'),\n",
       " (0.7006116509437561, 'lahmacunlar'),\n",
       " (0.7001688480377197, 'lahmacunun')]"
      ]
     },
     "execution_count": 9,
     "metadata": {},
     "output_type": "execute_result"
    }
   ],
   "source": [
    "model_tr.get_nearest_neighbors(\"lahmacun\")"
   ]
  },
  {
   "cell_type": "code",
   "execution_count": 10,
   "id": "ff343404",
   "metadata": {},
   "outputs": [
    {
     "name": "stdout",
     "output_type": "stream",
     "text": [
      "(11429, 2)\n"
     ]
    },
    {
     "data": {
      "text/html": [
       "<div>\n",
       "<style scoped>\n",
       "    .dataframe tbody tr th:only-of-type {\n",
       "        vertical-align: middle;\n",
       "    }\n",
       "\n",
       "    .dataframe tbody tr th {\n",
       "        vertical-align: top;\n",
       "    }\n",
       "\n",
       "    .dataframe thead th {\n",
       "        text-align: right;\n",
       "    }\n",
       "</style>\n",
       "<table border=\"1\" class=\"dataframe\">\n",
       "  <thead>\n",
       "    <tr style=\"text-align: right;\">\n",
       "      <th></th>\n",
       "      <th>Görüş</th>\n",
       "      <th>Durum</th>\n",
       "    </tr>\n",
       "  </thead>\n",
       "  <tbody>\n",
       "    <tr>\n",
       "      <th>0</th>\n",
       "      <td>ses kalitesi ve ergonomisi rezalet, sony olduğ...</td>\n",
       "      <td>Olumsuz</td>\n",
       "    </tr>\n",
       "    <tr>\n",
       "      <th>1</th>\n",
       "      <td>hizli teslimat tesekkürler</td>\n",
       "      <td>Tarafsız</td>\n",
       "    </tr>\n",
       "    <tr>\n",
       "      <th>2</th>\n",
       "      <td>ses olayı süper....gece çalıştır sıkıntı yok.....</td>\n",
       "      <td>Olumlu</td>\n",
       "    </tr>\n",
       "  </tbody>\n",
       "</table>\n",
       "</div>"
      ],
      "text/plain": [
       "                                               Görüş     Durum\n",
       "0  ses kalitesi ve ergonomisi rezalet, sony olduğ...   Olumsuz\n",
       "1                         hizli teslimat tesekkürler  Tarafsız\n",
       "2  ses olayı süper....gece çalıştır sıkıntı yok.....    Olumlu"
      ]
     },
     "execution_count": 10,
     "metadata": {},
     "output_type": "execute_result"
    }
   ],
   "source": [
    "import pandas as pd\n",
    "\n",
    "df = pd.read_csv(\"magaza_yorumlari_duygu_analizi.csv\",encoding=\"utf-16\")\n",
    "print(df.shape)\n",
    "df.head(3)"
   ]
  },
  {
   "cell_type": "code",
   "execution_count": 11,
   "id": "31d8c582",
   "metadata": {},
   "outputs": [
    {
     "data": {
      "text/plain": [
       "'ses olayı süper....gece çalıştır sıkıntı yok.....kablo uzun işinizi çok rahat ettirir.....çekme olayı son derece güzel içiniz rahat olsun......diğerlerini saymıyorum bile.....'"
      ]
     },
     "execution_count": 11,
     "metadata": {},
     "output_type": "execute_result"
    }
   ],
   "source": [
    "df.Görüş[2]"
   ]
  },
  {
   "cell_type": "code",
   "execution_count": 12,
   "id": "cc2c0b71",
   "metadata": {},
   "outputs": [
    {
     "data": {
      "text/plain": [
       "'ses olayı süper    gece çalıştır sıkıntı yok     kablo uzun işinizi çok rahat ettirir     çekme olayı son derece güzel içiniz rahat olsun      diğerlerini saymıyorum bile     '"
      ]
     },
     "execution_count": 12,
     "metadata": {},
     "output_type": "execute_result"
    }
   ],
   "source": [
    "import re\n",
    "\n",
    "text = 'ses olayı süper....gece çalıştır sıkıntı yok.....kablo uzun işinizi çok rahat ettirir.....çekme olayı son derece güzel içiniz rahat olsun......diğerlerini saymıyorum bile.....'\n",
    "re.sub(r\"[^\\w\\s]\", \" \", text, flags=re.MULTILINE)"
   ]
  },
  {
   "cell_type": "code",
   "execution_count": 13,
   "id": "9b3f7402",
   "metadata": {},
   "outputs": [],
   "source": [
    "def preprocess(text):\n",
    "    text = re.sub(r'[^\\w\\s\\']',' ', str(text))\n",
    "    text = re.sub(r'[ \\n]+', ' ', str(text))\n",
    "    return text.strip().lower() "
   ]
  },
  {
   "cell_type": "code",
   "execution_count": 14,
   "id": "8bda62c5",
   "metadata": {},
   "outputs": [],
   "source": [
    "df.Görüş = df.Görüş.map(preprocess)"
   ]
  },
  {
   "cell_type": "code",
   "execution_count": 15,
   "id": "1bdfa24a",
   "metadata": {},
   "outputs": [
    {
     "data": {
      "text/plain": [
       "'ses olayı süper gece çalıştır sıkıntı yok kablo uzun işinizi çok rahat ettirir çekme olayı son derece güzel içiniz rahat olsun diğerlerini saymıyorum bile'"
      ]
     },
     "execution_count": 15,
     "metadata": {},
     "output_type": "execute_result"
    }
   ],
   "source": [
    "df.Görüş[2]"
   ]
  },
  {
   "cell_type": "code",
   "execution_count": 16,
   "id": "e13b8a3d",
   "metadata": {},
   "outputs": [],
   "source": [
    "df.to_csv(\"yorumlar.txt\", columns=[\"Görüş\"], header=None, index=False)"
   ]
  },
  {
   "cell_type": "code",
   "execution_count": 17,
   "id": "13126b17",
   "metadata": {},
   "outputs": [],
   "source": [
    "import fasttext\n",
    "\n",
    "model = fasttext.train_unsupervised(\"yorumlar.txt\")"
   ]
  },
  {
   "cell_type": "code",
   "execution_count": 18,
   "id": "f6430d7a",
   "metadata": {},
   "outputs": [
    {
     "data": {
      "text/plain": [
       "[(0.9443223476409912, '\"ürün'),\n",
       " (0.9235838651657104, 'üründü'),\n",
       " (0.9206018447875977, 'ürünümün'),\n",
       " (0.913508415222168, 'ürünüm'),\n",
       " (0.911765992641449, 'ürünümü'),\n",
       " (0.8983615040779114, 'anlatıldığı'),\n",
       " (0.8963686227798462, 'üründür'),\n",
       " (0.89410400390625, 'göründüğünden'),\n",
       " (0.8911109566688538, 'ürünün'),\n",
       " (0.8880124688148499, '\"ürünün')]"
      ]
     },
     "execution_count": 18,
     "metadata": {},
     "output_type": "execute_result"
    }
   ],
   "source": [
    "model.get_nearest_neighbors(\"ürün\")"
   ]
  },
  {
   "cell_type": "code",
   "execution_count": 19,
   "id": "6ef88960",
   "metadata": {},
   "outputs": [
    {
     "data": {
      "text/plain": [
       "[(0.992416262626648, 'kargom'),\n",
       " (0.9868634939193726, 'kargosu'),\n",
       " (0.9868398308753967, 'kargocu'),\n",
       " (0.9824222922325134, 'kargoyla'),\n",
       " (0.9808170795440674, 'kargomu'),\n",
       " (0.969036340713501, 'kargoda'),\n",
       " (0.9665930867195129, 'kargoyu'),\n",
       " (0.9575048685073853, 'kargonun'),\n",
       " (0.9571154117584229, 'kargolar'),\n",
       " (0.952549159526825, 'kargoladı')]"
      ]
     },
     "execution_count": 19,
     "metadata": {},
     "output_type": "execute_result"
    }
   ],
   "source": [
    "model.get_nearest_neighbors(\"kargo\")"
   ]
  },
  {
   "cell_type": "code",
   "execution_count": 20,
   "id": "e357dc52",
   "metadata": {},
   "outputs": [
    {
     "data": {
      "text/plain": [
       "[(0.9905979633331299, 'telefona'),\n",
       " (0.9805653095245361, 'telefonum'),\n",
       " (0.979956865310669, 'telefonu'),\n",
       " (0.9778199791908264, 'telefondu'),\n",
       " (0.9699931144714355, 'telefonunu'),\n",
       " (0.9687566161155701, 'telefonla'),\n",
       " (0.968045175075531, 'telefonumu'),\n",
       " (0.9652799367904663, 'telefonun'),\n",
       " (0.9626728296279907, 'telefonuma'),\n",
       " (0.9615523815155029, 'telefonunuza')]"
      ]
     },
     "execution_count": 20,
     "metadata": {},
     "output_type": "execute_result"
    }
   ],
   "source": [
    "model.get_nearest_neighbors(\"telefon\")"
   ]
  },
  {
   "cell_type": "code",
   "execution_count": 21,
   "id": "19fd1ba3",
   "metadata": {},
   "outputs": [
    {
     "data": {
      "text/plain": [
       "[(0.9471360445022583, 'dönmeye'),\n",
       " (0.9449203014373779, 'bitmeye'),\n",
       " (0.9313780069351196, 'hikaye'),\n",
       " (0.9252957701683044, 'sokağa'),\n",
       " (0.9213091135025024, 'koydum'),\n",
       " (0.9179022908210754, 'biber'),\n",
       " (0.9178941249847412, 'giderken'),\n",
       " (0.9172772169113159, 'kombide'),\n",
       " (0.9150139093399048, 'takmaz'),\n",
       " (0.9143604636192322, '1ay')]"
      ]
     },
     "execution_count": 21,
     "metadata": {},
     "output_type": "execute_result"
    }
   ],
   "source": [
    "model.get_nearest_neighbors(\"kebap\")"
   ]
  },
  {
   "cell_type": "code",
   "execution_count": 22,
   "id": "694ed593",
   "metadata": {},
   "outputs": [
    {
     "data": {
      "text/plain": [
       "[(0.9558038115501404, 'firmanın'),\n",
       " (0.9556176066398621, 'firmada'),\n",
       " (0.9534366726875305, 'firması'),\n",
       " (0.9456542134284973, 'firmaya'),\n",
       " (0.9380554556846619, 'faturasını'),\n",
       " (0.9309403896331787, 'faturam'),\n",
       " (0.9309307932853699, 'firmasının'),\n",
       " (0.9274613857269287, 'firmasına'),\n",
       " (0.9267207384109497, 'hizmetlerine'),\n",
       " (0.9260385632514954, 'faturayı')]"
      ]
     },
     "execution_count": 22,
     "metadata": {},
     "output_type": "execute_result"
    }
   ],
   "source": [
    "model.get_nearest_neighbors(\"firma\")"
   ]
  },
  {
   "cell_type": "code",
   "execution_count": 23,
   "id": "442cc153",
   "metadata": {},
   "outputs": [
    {
     "data": {
      "text/plain": [
       "[(0.9898271560668945, 'faturam'),\n",
       " (0.9714958667755127, 'faturayı'),\n",
       " (0.961297333240509, 'faturası'),\n",
       " (0.9602780342102051, 'faturasız'),\n",
       " (0.9399154782295227, 'adrese'),\n",
       " (0.9386464357376099, 'faturada'),\n",
       " (0.938585102558136, 'iletişim'),\n",
       " (0.937707781791687, 'faturasını'),\n",
       " (0.9373010993003845, 'gönderildi'),\n",
       " (0.9354262351989746, 'hizmetlerine')]"
      ]
     },
     "execution_count": 23,
     "metadata": {},
     "output_type": "execute_result"
    }
   ],
   "source": [
    "model.get_nearest_neighbors(\"fatura\")"
   ]
  },
  {
   "cell_type": "code",
   "execution_count": 24,
   "id": "65dc448e",
   "metadata": {},
   "outputs": [
    {
     "data": {
      "text/plain": [
       "[(0.8976993560791016, '\"ürün'),\n",
       " (0.8827604055404663, 'bildiğim'),\n",
       " (0.8773313760757446, 'beklediğimden'),\n",
       " (0.8733536601066589, 'belirtildiği'),\n",
       " (0.8726929426193237, 'beklediğim'),\n",
       " (0.8700518608093262, 'ürünümün'),\n",
       " (0.8664860129356384, 'beklediğimin'),\n",
       " (0.8608408570289612, 'beklediğimiz'),\n",
       " (0.8567351698875427, 'ürünümü'),\n",
       " (0.8563725352287292, 'paketlemede')]"
      ]
     },
     "execution_count": 24,
     "metadata": {},
     "output_type": "execute_result"
    }
   ],
   "source": [
    "model.get_analogies(\"fatura\",\"firma\",\"ürün\")"
   ]
  },
  {
   "cell_type": "code",
   "execution_count": 25,
   "id": "16783a04",
   "metadata": {},
   "outputs": [
    {
     "data": {
      "text/plain": [
       "[(0.8906302452087402, 'güzeldi'),\n",
       " (0.8903188109397888, '\"ürün'),\n",
       " (0.8711295127868652, 'beğenildi'),\n",
       " (0.8622970581054688, 'beklediğimden'),\n",
       " (0.8580054640769958, 'belirtildiği'),\n",
       " (0.8575732707977295, 'göründüğünden'),\n",
       " (0.8571849465370178, 'güzel'),\n",
       " (0.8552609086036682, 'göründüğü'),\n",
       " (0.8490387201309204, 'i̇stediğim'),\n",
       " (0.8477027416229248, 'bildiğim')]"
      ]
     },
     "execution_count": 25,
     "metadata": {},
     "output_type": "execute_result"
    }
   ],
   "source": [
    "model.get_analogies(\"kargocu\",\"firma\",\"ürün\")"
   ]
  },
  {
   "cell_type": "code",
   "execution_count": null,
   "id": "3e1e84c2",
   "metadata": {},
   "outputs": [],
   "source": []
  }
 ],
 "metadata": {
  "kernelspec": {
   "display_name": "Python 3 (ipykernel)",
   "language": "python",
   "name": "python3"
  },
  "language_info": {
   "codemirror_mode": {
    "name": "ipython",
    "version": 3
   },
   "file_extension": ".py",
   "mimetype": "text/x-python",
   "name": "python",
   "nbconvert_exporter": "python",
   "pygments_lexer": "ipython3",
   "version": "3.12.4"
  }
 },
 "nbformat": 4,
 "nbformat_minor": 5
}
